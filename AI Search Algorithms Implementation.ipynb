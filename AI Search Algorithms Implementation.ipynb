{
 "cells": [
  {
   "cell_type": "markdown",
   "id": "a3efa067",
   "metadata": {},
   "source": [
    "# Create classes for node, node connections and graph"
   ]
  },
  {
   "cell_type": "markdown",
   "id": "45b92519",
   "metadata": {},
   "source": [
    "## Node"
   ]
  },
  {
   "cell_type": "code",
   "execution_count": 1,
   "id": "fc5a9381",
   "metadata": {},
   "outputs": [],
   "source": [
    "class Node:\n",
    "    ### Node in a graph ###\n",
    "    def __init__(self, name, heuristic):\n",
    "        self.name = name\n",
    "        self.heuristic = heuristic\n",
    "    \n",
    "    def __str__(self):\n",
    "        return \"NODE -> Name: \" + self.name + \", Heuristic: \" + str(self.heuristic)"
   ]
  },
  {
   "cell_type": "markdown",
   "id": "7afbc158",
   "metadata": {},
   "source": [
    "## Connection"
   ]
  },
  {
   "cell_type": "code",
   "execution_count": 2,
   "id": "025bf717",
   "metadata": {},
   "outputs": [],
   "source": [
    "class Connection:\n",
    "    ### Connection between 2 nodes in a graph ###\n",
    "    def __init__(self, parent_node, child_node, cost):\n",
    "        self.parent_node = parent_node\n",
    "        self.child_node = child_node\n",
    "        self.cost = cost\n",
    "    \n",
    "    def __str__(self):\n",
    "        return \"NODE-CONNECTION -> From: \" + self.parent_node.name + \", To: \" + self.child_node.name + \", Cost: \" + str(self.cost)"
   ]
  },
  {
   "cell_type": "markdown",
   "id": "f99c0bfe",
   "metadata": {},
   "source": [
    "## Graph"
   ]
  },
  {
   "cell_type": "code",
   "execution_count": 3,
   "id": "707513f7",
   "metadata": {},
   "outputs": [],
   "source": [
    "class Graph:\n",
    "    ### A graph (collection of nodes) ###\n",
    "    def __init__(self):\n",
    "        self.nodes = list()\n",
    "        self.connections = list()\n",
    "    \n",
    "    def add_node(self, node_to_add):\n",
    "        self.nodes.append(node_to_add)\n",
    "    \n",
    "    def add_connection(self, parent_node, child_node, cost):\n",
    "        self.connections.append(\n",
    "            Connection(parent_node, child_node, cost)\n",
    "        )\n",
    "    \n",
    "    def is_connection_present(self, parent_node, child_node):\n",
    "        for connection in self.connections:\n",
    "            if (connection.parent_node == parent_node and\n",
    "                connection.child_node == child_node):\n",
    "                return True\n",
    "        return False\n",
    "    \n",
    "    def get_connection_cost(self, parent_node, child_node):\n",
    "        for connection in self.connections:\n",
    "            if (connection.parent_node == parent_node and\n",
    "                connection.child_node == child_node):\n",
    "                return connection.cost\n",
    "        return None\n",
    "\n",
    "    def get_all_connections(self, node):\n",
    "        list_of_connections = list()\n",
    "        for connection in self.connections:\n",
    "            if (connection.parent_node.name == node.name):\n",
    "                list_of_connections.append(connection)\n",
    "        return list_of_connections\n",
    "\n",
    "    def __str__(self):\n",
    "        graph_as_string = \"\\n\"\n",
    "        for connection in self.connections:\n",
    "            graph_as_string += str(connection) + \"\\n\"\n",
    "        return graph_as_string"
   ]
  },
  {
   "cell_type": "markdown",
   "id": "e23f9785",
   "metadata": {},
   "source": [
    "# Create Graph for searching"
   ]
  },
  {
   "cell_type": "markdown",
   "id": "0e5553b4",
   "metadata": {},
   "source": [
    "## Initialize all nodes"
   ]
  },
  {
   "cell_type": "code",
   "execution_count": 4,
   "id": "4bfefd45",
   "metadata": {},
   "outputs": [],
   "source": [
    "start = Node('start', 2)\n",
    "A = Node('A', 6)\n",
    "B = Node('B', 4)\n",
    "C = Node('C', 6)\n",
    "D = Node('D', 2)\n",
    "E = Node('E', 2)\n",
    "F = Node('F', 3)\n",
    "end = Node('end', 0)"
   ]
  },
  {
   "cell_type": "markdown",
   "id": "6961877c",
   "metadata": {},
   "source": [
    "## Initialize a graph and add nodes to it"
   ]
  },
  {
   "cell_type": "code",
   "execution_count": 5,
   "id": "b81b510a",
   "metadata": {},
   "outputs": [],
   "source": [
    "graph = Graph()\n",
    "graph.add_node(start)\n",
    "graph.add_node(A)\n",
    "graph.add_node(B)\n",
    "graph.add_node(C)\n",
    "graph.add_node(D)\n",
    "graph.add_node(E)\n",
    "graph.add_node(F)\n",
    "graph.add_node(end)"
   ]
  },
  {
   "cell_type": "markdown",
   "id": "8c9065fa",
   "metadata": {},
   "source": [
    "## Add connections for all the nodes added in graph"
   ]
  },
  {
   "cell_type": "code",
   "execution_count": 6,
   "id": "4801b086",
   "metadata": {},
   "outputs": [],
   "source": [
    "graph.add_connection(start, A, 5)\n",
    "graph.add_connection(start, B, 11)\n",
    "graph.add_connection(start, C, 5)\n",
    "graph.add_connection(A, E, 3)\n",
    "graph.add_connection(C, B, 4)\n",
    "graph.add_connection(C, F, 6)\n",
    "graph.add_connection(B, E, 2)\n",
    "graph.add_connection(F, E, 1)\n",
    "graph.add_connection(F, end, 3)\n",
    "graph.add_connection(E, D, 4)\n",
    "graph.add_connection(E, end, 6)\n",
    "graph.add_connection(D, end, 4)"
   ]
  },
  {
   "cell_type": "markdown",
   "id": "489222d2",
   "metadata": {},
   "source": [
    "## Print graph to see if everything was added correctly"
   ]
  },
  {
   "cell_type": "code",
   "execution_count": 7,
   "id": "844d5886",
   "metadata": {},
   "outputs": [
    {
     "name": "stdout",
     "output_type": "stream",
     "text": [
      "\n",
      "NODE-CONNECTION -> From: start, To: A, Cost: 5\n",
      "NODE-CONNECTION -> From: start, To: B, Cost: 11\n",
      "NODE-CONNECTION -> From: start, To: C, Cost: 5\n",
      "NODE-CONNECTION -> From: A, To: E, Cost: 3\n",
      "NODE-CONNECTION -> From: C, To: B, Cost: 4\n",
      "NODE-CONNECTION -> From: C, To: F, Cost: 6\n",
      "NODE-CONNECTION -> From: B, To: E, Cost: 2\n",
      "NODE-CONNECTION -> From: F, To: E, Cost: 1\n",
      "NODE-CONNECTION -> From: F, To: end, Cost: 3\n",
      "NODE-CONNECTION -> From: E, To: D, Cost: 4\n",
      "NODE-CONNECTION -> From: E, To: end, Cost: 6\n",
      "NODE-CONNECTION -> From: D, To: end, Cost: 4\n",
      "\n"
     ]
    }
   ],
   "source": [
    "print(graph)"
   ]
  },
  {
   "cell_type": "markdown",
   "id": "6dad4d11",
   "metadata": {},
   "source": [
    "# Implement Search Algorithms"
   ]
  },
  {
   "cell_type": "markdown",
   "id": "9caf5f6f",
   "metadata": {},
   "source": [
    "## Uniform Cost Search (UCS)"
   ]
  },
  {
   "cell_type": "code",
   "execution_count": 8,
   "id": "278efe0b",
   "metadata": {},
   "outputs": [],
   "source": [
    "def shortest_path(u, v, selected = []):\n",
    "    if v == u:\n",
    "        return selected\n",
    "    \n",
    "    selected.append(u)\n",
    "    \n",
    "    min_edge = 10000\n",
    "    min_node = \"\"\n",
    "\n",
    "    for connection in graph.get_all_connections(u):\n",
    "        \n",
    "        if (connection.child_node.name == v.name):\n",
    "            selected.append(connection.child_node)\n",
    "            return selected\n",
    "\n",
    "        if (graph.get_connection_cost(u, connection.child_node) < min_edge) and not(connection.child_node in selected):\n",
    "            min_edge = graph.get_connection_cost(u, connection.child_node)\n",
    "            min_node = connection.child_node\n",
    "            shortest_path(min_node, v, selected)"
   ]
  },
  {
   "cell_type": "code",
   "execution_count": 9,
   "id": "70b7cdd1",
   "metadata": {},
   "outputs": [],
   "source": [
    "def UCS(start, end):\n",
    "    list_of_outputs = []\n",
    "    shortest_path(start, end, list_of_outputs)\n",
    "    \n",
    "    total_cost = 0\n",
    "    for index, node in enumerate(list_of_outputs[:-1]):\n",
    "        cost = graph.get_connection_cost(node, list_of_outputs[index+1])\n",
    "        if (cost is not None):\n",
    "            total_cost += cost\n",
    "        print(\"From: \", node.name, \"\\tTo:\", list_of_outputs[index+1].name, \"\\t\\tCost:\", cost)\n",
    "\n",
    "    print(\"Total cost from \", start.name, \" to \", end.name, \" is\", total_cost)"
   ]
  },
  {
   "cell_type": "code",
   "execution_count": 10,
   "id": "f3315889",
   "metadata": {},
   "outputs": [
    {
     "name": "stdout",
     "output_type": "stream",
     "text": [
      "From:  start \tTo: A \t\tCost: 5\n",
      "From:  A \tTo: E \t\tCost: 3\n",
      "From:  E \tTo: D \t\tCost: 4\n",
      "From:  D \tTo: end \t\tCost: 4\n",
      "From:  end \tTo: end \t\tCost: None\n",
      "Total cost from  start  to  end  is 16\n"
     ]
    }
   ],
   "source": [
    "UCS(start, end)"
   ]
  },
  {
   "cell_type": "markdown",
   "id": "b1c40c31",
   "metadata": {},
   "source": [
    "## Best First Search (BFS)"
   ]
  },
  {
   "cell_type": "code",
   "execution_count": 11,
   "id": "b34ca712",
   "metadata": {},
   "outputs": [],
   "source": [
    "path_of_BFS = []\n",
    "\n",
    "def BFS(start_node, goal_node):\n",
    "    frontier_list = list()\n",
    "    \n",
    "    current_node = start_node\n",
    "    is_goal_found = False\n",
    "    \n",
    "    while(not is_goal_found):\n",
    "        if current_node not in path_of_BFS:\n",
    "            path_of_BFS.append(current_node)\n",
    "\n",
    "        if current_node.name == goal_node.name:\n",
    "            return goal_node\n",
    "        \n",
    "        for connection in graph.get_all_connections(current_node):\n",
    "            if connection.child_node not in frontier_list:\n",
    "                frontier_list.append(connection.child_node)\n",
    "        \n",
    "        smallest_heuristic_node = frontier_list[0]\n",
    "        for node in frontier_list[1:]:\n",
    "            if (node.heuristic < smallest_heuristic_node.heuristic):\n",
    "                smallest_heuristic_node = node\n",
    "        current_node = smallest_heuristic_node"
   ]
  },
  {
   "cell_type": "code",
   "execution_count": 12,
   "id": "00e3da19",
   "metadata": {},
   "outputs": [
    {
     "data": {
      "text/plain": [
       "<__main__.Node at 0x250dca86020>"
      ]
     },
     "execution_count": 12,
     "metadata": {},
     "output_type": "execute_result"
    }
   ],
   "source": [
    "BFS(start, end)"
   ]
  },
  {
   "cell_type": "code",
   "execution_count": 13,
   "id": "b4bff90b",
   "metadata": {},
   "outputs": [
    {
     "name": "stdout",
     "output_type": "stream",
     "text": [
      "NODE -> Name: start, Heuristic: 2\n",
      "NODE -> Name: B, Heuristic: 4\n",
      "NODE -> Name: E, Heuristic: 2\n",
      "Total cost of Iterative Deepening Search is :  19\n"
     ]
    }
   ],
   "source": [
    "cost_of_BFS = 0\n",
    "for index, node in enumerate(path_of_BFS[:-1]):\n",
    "    cost_of_BFS += graph.get_connection_cost(node, path_of_BFS[index+1])\n",
    "    print(node)\n",
    "print(\"Total cost of Iterative Deepening Search is : \", cost_of_BFS)"
   ]
  },
  {
   "cell_type": "markdown",
   "id": "672cac7e",
   "metadata": {},
   "source": [
    "## Iterative Deepening Search (IDS)"
   ]
  },
  {
   "cell_type": "code",
   "execution_count": 14,
   "id": "0e66dbb0",
   "metadata": {},
   "outputs": [],
   "source": [
    "path_of_IDS = []\n",
    "\n",
    "def DepthLimitedSearch(StartNode, GoalNode, Depth):\n",
    "    if StartNode not in path_of_IDS:\n",
    "        path_of_IDS.append(StartNode)\n",
    "    if Depth == 0 and StartNode.name == GoalNode.name:\n",
    "        return GoalNode\n",
    "\n",
    "    if Depth > 0:\n",
    "        for connection in graph.get_all_connections(StartNode):\n",
    "            found = DepthLimitedSearch(connection.child_node, GoalNode, Depth - 1)\n",
    "            \n",
    "            if found == None:\n",
    "                return None\n",
    "            \n",
    "            if found.name == GoalNode.name:\n",
    "                return GoalNode\n",
    "    return None\n",
    "\n",
    "def IterativeDeepeningSearch(root, Goal):\n",
    "    for Depth in range(100):\n",
    "        found = DepthLimitedSearch(root, Goal, Depth)\n",
    "        if not(found is None):\n",
    "            return found"
   ]
  },
  {
   "cell_type": "code",
   "execution_count": 15,
   "id": "a7567929",
   "metadata": {},
   "outputs": [
    {
     "data": {
      "text/plain": [
       "<__main__.Node at 0x250dca86020>"
      ]
     },
     "execution_count": 15,
     "metadata": {},
     "output_type": "execute_result"
    }
   ],
   "source": [
    "IterativeDeepeningSearch(start, end)"
   ]
  },
  {
   "cell_type": "code",
   "execution_count": 16,
   "id": "461cfe17",
   "metadata": {},
   "outputs": [
    {
     "name": "stdout",
     "output_type": "stream",
     "text": [
      "NODE -> Name: start, Heuristic: 2\n",
      "NODE -> Name: A, Heuristic: 6\n",
      "NODE -> Name: E, Heuristic: 2\n",
      "NODE -> Name: D, Heuristic: 2\n",
      "Total cost of Iterative Deepening Search is :  16\n"
     ]
    }
   ],
   "source": [
    "cost_of_IDS = 0\n",
    "for index, node in enumerate(path_of_IDS[:-1]):\n",
    "    cost_of_IDS += graph.get_connection_cost(node, path_of_IDS[index+1])\n",
    "    print(node)\n",
    "print(\"Total cost of Iterative Deepening Search is : \", cost_of_IDS)"
   ]
  },
  {
   "cell_type": "code",
   "execution_count": null,
   "id": "5c76e800",
   "metadata": {},
   "outputs": [],
   "source": []
  },
  {
   "cell_type": "code",
   "execution_count": null,
   "id": "06355402",
   "metadata": {},
   "outputs": [],
   "source": []
  },
  {
   "cell_type": "code",
   "execution_count": null,
   "id": "8194b974",
   "metadata": {},
   "outputs": [],
   "source": []
  },
  {
   "cell_type": "code",
   "execution_count": null,
   "id": "255feaac",
   "metadata": {},
   "outputs": [],
   "source": []
  },
  {
   "cell_type": "code",
   "execution_count": null,
   "id": "297aa813",
   "metadata": {},
   "outputs": [],
   "source": []
  }
 ],
 "metadata": {
  "kernelspec": {
   "display_name": "Python 3 (ipykernel)",
   "language": "python",
   "name": "python3"
  },
  "language_info": {
   "codemirror_mode": {
    "name": "ipython",
    "version": 3
   },
   "file_extension": ".py",
   "mimetype": "text/x-python",
   "name": "python",
   "nbconvert_exporter": "python",
   "pygments_lexer": "ipython3",
   "version": "3.10.8"
  }
 },
 "nbformat": 4,
 "nbformat_minor": 5
}
