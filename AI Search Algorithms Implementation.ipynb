{
 "cells": [
  {
   "cell_type": "markdown",
   "id": "a3efa067",
   "metadata": {},
   "source": [
    "# Create classes for node, node connections and graph"
   ]
  },
  {
   "cell_type": "markdown",
   "id": "45b92519",
   "metadata": {},
   "source": [
    "## Node"
   ]
  },
  {
   "cell_type": "code",
   "execution_count": 1,
   "id": "fc5a9381",
   "metadata": {},
   "outputs": [],
   "source": [
    "class Node:\n",
    "    ### Node in a graph ###\n",
    "    def __init__(self, name, heuristic):\n",
    "        self.name = name\n",
    "        self.heuristic = heuristic\n",
    "    \n",
    "    def __str__(self):\n",
    "        return \"Name: \" + self.name + \", Heuristic: \" + self.heuristic"
   ]
  },
  {
   "cell_type": "markdown",
   "id": "7afbc158",
   "metadata": {},
   "source": [
    "## Connection"
   ]
  },
  {
   "cell_type": "code",
   "execution_count": 2,
   "id": "025bf717",
   "metadata": {},
   "outputs": [],
   "source": [
    "class Connection:\n",
    "    ### Connection between 2 nodes in a graph ###\n",
    "    def __init__(self, parent_node, child_node, cost):\n",
    "        self.parent_node = parent_node\n",
    "        self.child_node = child_node\n",
    "        self.cost = cost\n",
    "    \n",
    "    def __str__(self):\n",
    "        return \"Parent: \" + self.parent_node.name + \", Child: \" + self.child_node.name + \", Cost: \" + str(self.cost)"
   ]
  },
  {
   "cell_type": "markdown",
   "id": "f99c0bfe",
   "metadata": {},
   "source": [
    "## Graph"
   ]
  },
  {
   "cell_type": "code",
   "execution_count": 3,
   "id": "707513f7",
   "metadata": {},
   "outputs": [],
   "source": [
    "class Graph:\n",
    "    ### A graph (collection of nodes) ###\n",
    "    def __init__(self):\n",
    "        self.nodes = list()\n",
    "        self.connections = list()\n",
    "    \n",
    "    def add_node(self, node_to_add):\n",
    "        self.nodes.append(node_to_add)\n",
    "    \n",
    "    def add_connection(self, parent_node, child_node, cost):\n",
    "        self.connections.append(\n",
    "            Connection(parent_node, child_node, cost)\n",
    "        )\n",
    "    \n",
    "    def is_connection_present(self, parent_node, child_node):\n",
    "        for connection in self.connections:\n",
    "            if (connection.parent_node == parent_node and\n",
    "                connection.child_node == child_node):\n",
    "                return True\n",
    "        return False\n",
    "\n",
    "    def get_all_connections(self, node):\n",
    "        list_of_connections = list()\n",
    "        for connection in self.connections:\n",
    "            if (connection.parent_node.name == node.name):\n",
    "                list_of_connections.append(connection)\n",
    "        return list_of_connections\n",
    "\n",
    "    def __str__(self):\n",
    "        graph_as_string = \"\\n\"\n",
    "        for connection in self.connections:\n",
    "            graph_as_string += str(connection) + \"\\n\"\n",
    "        return graph_as_string"
   ]
  },
  {
   "cell_type": "markdown",
   "id": "e23f9785",
   "metadata": {},
   "source": [
    "# Create Graph for searching"
   ]
  },
  {
   "cell_type": "markdown",
   "id": "0e5553b4",
   "metadata": {},
   "source": [
    "## Initialize all nodes"
   ]
  },
  {
   "cell_type": "code",
   "execution_count": 4,
   "id": "4bfefd45",
   "metadata": {},
   "outputs": [],
   "source": [
    "start = Node('start', 2)\n",
    "A = Node('A', 6)\n",
    "B = Node('B', 4)\n",
    "C = Node('C', 6)\n",
    "D = Node('D', 2)\n",
    "E = Node('E', 2)\n",
    "F = Node('F', 3)\n",
    "end = Node('end', 0)"
   ]
  },
  {
   "cell_type": "markdown",
   "id": "6961877c",
   "metadata": {},
   "source": [
    "## Initialize a graph and add nodes to it"
   ]
  },
  {
   "cell_type": "code",
   "execution_count": 5,
   "id": "b81b510a",
   "metadata": {},
   "outputs": [],
   "source": [
    "graph = Graph()\n",
    "graph.add_node(start)\n",
    "graph.add_node(A)\n",
    "graph.add_node(B)\n",
    "graph.add_node(C)\n",
    "graph.add_node(D)\n",
    "graph.add_node(E)\n",
    "graph.add_node(F)\n",
    "graph.add_node(end)"
   ]
  },
  {
   "cell_type": "markdown",
   "id": "8c9065fa",
   "metadata": {},
   "source": [
    "## Add connections for all the nodes added in graph"
   ]
  },
  {
   "cell_type": "code",
   "execution_count": 6,
   "id": "4801b086",
   "metadata": {},
   "outputs": [],
   "source": [
    "graph.add_connection(start, A, 5)\n",
    "graph.add_connection(start, B, 11)\n",
    "graph.add_connection(start, C, 5)\n",
    "graph.add_connection(A, E, 3)\n",
    "graph.add_connection(C, B, 4)\n",
    "graph.add_connection(C, F, 6)\n",
    "graph.add_connection(B, E, 2)\n",
    "graph.add_connection(F, E, 1)\n",
    "graph.add_connection(F, end, 3)\n",
    "graph.add_connection(E, D, 4)\n",
    "graph.add_connection(E, end, 6)\n",
    "graph.add_connection(D, end, 4)"
   ]
  },
  {
   "cell_type": "markdown",
   "id": "489222d2",
   "metadata": {},
   "source": [
    "## Print graph to see if everything was added correctly"
   ]
  },
  {
   "cell_type": "code",
   "execution_count": 7,
   "id": "844d5886",
   "metadata": {},
   "outputs": [
    {
     "name": "stdout",
     "output_type": "stream",
     "text": [
      "\n",
      "Parent: start, Child: A, Cost: 5\n",
      "Parent: start, Child: B, Cost: 11\n",
      "Parent: start, Child: C, Cost: 5\n",
      "Parent: A, Child: E, Cost: 3\n",
      "Parent: C, Child: B, Cost: 4\n",
      "Parent: C, Child: F, Cost: 6\n",
      "Parent: B, Child: E, Cost: 2\n",
      "Parent: F, Child: E, Cost: 1\n",
      "Parent: F, Child: end, Cost: 3\n",
      "Parent: E, Child: D, Cost: 4\n",
      "Parent: E, Child: end, Cost: 6\n",
      "Parent: D, Child: end, Cost: 4\n",
      "\n"
     ]
    }
   ],
   "source": [
    "print(graph)"
   ]
  },
  {
   "cell_type": "markdown",
   "id": "6dad4d11",
   "metadata": {},
   "source": [
    "# Implement Search Algorithms"
   ]
  },
  {
   "cell_type": "markdown",
   "id": "9caf5f6f",
   "metadata": {},
   "source": [
    "## Uniform Cost Search (UCS)"
   ]
  },
  {
   "cell_type": "code",
   "execution_count": 8,
   "id": "8194b974",
   "metadata": {},
   "outputs": [],
   "source": [
    "def UCS(start_node, goal_node):\n",
    "    pass"
   ]
  },
  {
   "cell_type": "markdown",
   "id": "b1c40c31",
   "metadata": {},
   "source": [
    "## Best First Search (BFS)"
   ]
  },
  {
   "cell_type": "code",
   "execution_count": 9,
   "id": "b34ca712",
   "metadata": {},
   "outputs": [],
   "source": [
    "def BFS():\n",
    "    pass"
   ]
  },
  {
   "cell_type": "markdown",
   "id": "672cac7e",
   "metadata": {},
   "source": [
    "## Iterative Deepening Search (IDS)"
   ]
  },
  {
   "cell_type": "code",
   "execution_count": 10,
   "id": "0e66dbb0",
   "metadata": {},
   "outputs": [],
   "source": [
    "def IDS():\n",
    "    pass"
   ]
  },
  {
   "cell_type": "code",
   "execution_count": null,
   "id": "a7567929",
   "metadata": {},
   "outputs": [],
   "source": []
  }
 ],
 "metadata": {
  "kernelspec": {
   "display_name": "Python 3 (ipykernel)",
   "language": "python",
   "name": "python3"
  },
  "language_info": {
   "codemirror_mode": {
    "name": "ipython",
    "version": 3
   },
   "file_extension": ".py",
   "mimetype": "text/x-python",
   "name": "python",
   "nbconvert_exporter": "python",
   "pygments_lexer": "ipython3",
   "version": "3.10.8"
  }
 },
 "nbformat": 4,
 "nbformat_minor": 5
}
